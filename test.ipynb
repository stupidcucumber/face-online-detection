{
 "cells": [
  {
   "cell_type": "code",
   "execution_count": 1,
   "metadata": {},
   "outputs": [],
   "source": [
    "from src.dataset import FaceDetectionDataset\n",
    "from pathlib import Path\n",
    "\n",
    "\n",
    "root = Path(\"/Users/ihorkostiuk/.cache/kagglehub/datasets/fareselmenshawii/face-detection-dataset/versions/3/\")\n",
    "\n",
    "dataset = FaceDetectionDataset(\n",
    "    root=root,\n",
    "    subset=\"val\",\n",
    "    width=512,\n",
    "    height=512\n",
    ")"
   ]
  },
  {
   "cell_type": "code",
   "execution_count": 5,
   "metadata": {},
   "outputs": [
    {
     "data": {
      "text/plain": [
       "(tensor([[[0.3627, 0.3078, 0.2569],\n",
       "          [0.3505, 0.2956, 0.2446],\n",
       "          [0.3451, 0.2902, 0.2392],\n",
       "          ...,\n",
       "          [0.2755, 0.2676, 0.2196],\n",
       "          [0.2446, 0.2368, 0.1858],\n",
       "          [0.2049, 0.2059, 0.1520]],\n",
       " \n",
       "         [[0.3598, 0.3049, 0.2539],\n",
       "          [0.3490, 0.2941, 0.2431],\n",
       "          [0.3451, 0.2902, 0.2451],\n",
       "          ...,\n",
       "          [0.2814, 0.2676, 0.2196],\n",
       "          [0.2549, 0.2412, 0.1931],\n",
       "          [0.2196, 0.2118, 0.1608]],\n",
       " \n",
       "         [[0.3578, 0.3029, 0.2539],\n",
       "          [0.3471, 0.2922, 0.2490],\n",
       "          [0.3431, 0.2882, 0.2451],\n",
       "          ...,\n",
       "          [0.2814, 0.2637, 0.2147],\n",
       "          [0.2598, 0.2422, 0.1931],\n",
       "          [0.2294, 0.2147, 0.1569]],\n",
       " \n",
       "         ...,\n",
       " \n",
       "         [[0.6064, 0.3270, 0.0975],\n",
       "          [0.5789, 0.3118, 0.0926],\n",
       "          [0.5294, 0.2775, 0.0711],\n",
       "          ...,\n",
       "          [0.0475, 0.0201, 0.0000],\n",
       "          [0.0451, 0.0196, 0.0000],\n",
       "          [0.0436, 0.0181, 0.0000]],\n",
       " \n",
       "         [[0.5990, 0.3451, 0.1044],\n",
       "          [0.5667, 0.3299, 0.0966],\n",
       "          [0.5382, 0.3157, 0.1078],\n",
       "          ...,\n",
       "          [0.0480, 0.0186, 0.0000],\n",
       "          [0.0485, 0.0132, 0.0000],\n",
       "          [0.0471, 0.0118, 0.0000]],\n",
       " \n",
       "         [[0.5843, 0.3495, 0.0971],\n",
       "          [0.5549, 0.3387, 0.0922],\n",
       "          [0.5544, 0.3525, 0.1402],\n",
       "          ...,\n",
       "          [0.0510, 0.0157, 0.0000],\n",
       "          [0.0471, 0.0118, 0.0000],\n",
       "          [0.0500, 0.0088, 0.0000]]]),\n",
       " {'boxes': tensor([[ 44.4000, 281.0667, 145.2000, 415.4667],\n",
       "          [218.1997, 211.2000, 288.5997, 305.0667],\n",
       "          [392.5995,  85.8666, 455.0000, 169.0673]]),\n",
       "  'labels': tensor([0., 0., 0.]),\n",
       "  'area': tensor([13547.5186,  6608.2139,  5191.7646]),\n",
       "  'iscrowd': tensor([0, 0, 0]),\n",
       "  'image_id': tensor([4])})"
      ]
     },
     "execution_count": 5,
     "metadata": {},
     "output_type": "execute_result"
    }
   ],
   "source": [
    "dataset[4]"
   ]
  },
  {
   "cell_type": "code",
   "execution_count": 1,
   "metadata": {},
   "outputs": [
    {
     "name": "stderr",
     "output_type": "stream",
     "text": [
      "--2025-04-02 05:52:09--  https://raw.githubusercontent.com/pytorch/vision/main/references/detection/coco_utils.py\n",
      "Resolving raw.githubusercontent.com (raw.githubusercontent.com)... 185.199.109.133, 185.199.108.133, 185.199.111.133, ...\n",
      "Connecting to raw.githubusercontent.com (raw.githubusercontent.com)|185.199.109.133|:443... connected.\n",
      "HTTP request sent, awaiting response... 200 OK\n",
      "Length: 8397 (8.2K) [text/plain]\n",
      "Saving to: ‘coco_utils.py’\n",
      "\n",
      "     0K ........                                              100% 16.9M=0s\n",
      "\n",
      "2025-04-02 05:52:10 (16.9 MB/s) - ‘coco_utils.py’ saved [8397/8397]\n",
      "\n",
      "--2025-04-02 05:52:10--  https://raw.githubusercontent.com/pytorch/vision/main/references/detection/coco_eval.py\n",
      "Resolving raw.githubusercontent.com (raw.githubusercontent.com)... 185.199.108.133, 185.199.111.133, 185.199.110.133, ...\n",
      "Connecting to raw.githubusercontent.com (raw.githubusercontent.com)|185.199.108.133|:443... connected.\n",
      "HTTP request sent, awaiting response... 200 OK\n",
      "Length: 6447 (6.3K) [text/plain]\n",
      "Saving to: ‘coco_eval.py’\n",
      "\n",
      "     0K ......                                                100% 6.15M=0.001s\n",
      "\n",
      "2025-04-02 05:52:10 (6.15 MB/s) - ‘coco_eval.py’ saved [6447/6447]\n",
      "\n"
     ]
    },
    {
     "data": {
      "text/plain": [
       "0"
      ]
     },
     "execution_count": 1,
     "metadata": {},
     "output_type": "execute_result"
    }
   ],
   "source": [
    "import os\n",
    "\n",
    "\n",
    "os.system(\"wget https://raw.githubusercontent.com/pytorch/vision/main/references/detection/coco_utils.py\")\n",
    "os.system(\"wget https://raw.githubusercontent.com/pytorch/vision/main/references/detection/coco_eval.py\")"
   ]
  },
  {
   "cell_type": "code",
   "execution_count": null,
   "metadata": {},
   "outputs": [],
   "source": []
  }
 ],
 "metadata": {
  "kernelspec": {
   "display_name": "py312",
   "language": "python",
   "name": "python3"
  },
  "language_info": {
   "codemirror_mode": {
    "name": "ipython",
    "version": 3
   },
   "file_extension": ".py",
   "mimetype": "text/x-python",
   "name": "python",
   "nbconvert_exporter": "python",
   "pygments_lexer": "ipython3",
   "version": "3.12.9"
  }
 },
 "nbformat": 4,
 "nbformat_minor": 2
}
